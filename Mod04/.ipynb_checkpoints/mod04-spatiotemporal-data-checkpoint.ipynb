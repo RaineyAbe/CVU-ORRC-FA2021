{
 "cells": [
  {
   "cell_type": "code",
   "execution_count": 7,
   "id": "6d2cfdba",
   "metadata": {},
   "outputs": [
    {
     "data": {
      "text/plain": [
       "['../../downloads/c1184286e03e4f4ba38d65bd5754beb2/c1184286e03e4f4ba38d65bd5754beb2/data/contents/WRF-NARR-1km-WY2017/WRF-NARR-1km-WY2017.nc']"
      ]
     },
     "execution_count": 7,
     "metadata": {},
     "output_type": "execute_result"
    }
   ],
   "source": [
    "import xarray as xr\n",
    "import numpy as np\n",
    "import matplotlib.pyplot as plt\n",
    "\n",
    "ncfile = ['../../downloads/c1184286e03e4f4ba38d65bd5754beb2/' + \n",
    "    'c1184286e03e4f4ba38d65bd5754beb2/data/contents/' + \n",
    "          'WRF-NARR-1km-WY2017/WRF-NARR-1km-WY2017.nc']\n",
    "ncfile"
   ]
  },
  {
   "cell_type": "code",
   "execution_count": null,
   "id": "7b99bf85",
   "metadata": {},
   "outputs": [],
   "source": []
  }
 ],
 "metadata": {
  "kernelspec": {
   "display_name": "Python 3",
   "language": "python",
   "name": "python3"
  },
  "language_info": {
   "codemirror_mode": {
    "name": "ipython",
    "version": 3
   },
   "file_extension": ".py",
   "mimetype": "text/x-python",
   "name": "python",
   "nbconvert_exporter": "python",
   "pygments_lexer": "ipython3",
   "version": "3.8.6"
  }
 },
 "nbformat": 4,
 "nbformat_minor": 5
}
